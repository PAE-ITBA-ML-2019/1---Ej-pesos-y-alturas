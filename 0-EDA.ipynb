{
 "cells": [
  {
   "cell_type": "code",
   "execution_count": 39,
   "metadata": {},
   "outputs": [
    {
     "name": "stdout",
     "output_type": "stream",
     "text": [
      "The autoreload extension is already loaded. To reload it, use:\n",
      "  %reload_ext autoreload\n"
     ]
    }
   ],
   "source": [
    "%load_ext autoreload\n",
    "%autoreload 2\n",
    "import numpy as np\n",
    "import pandas as pd\n",
    "from matplotlib import pyplot as plt\n",
    "from pesos_y_alturas_helper import eval_model, plot_model\n",
    "from mpl_toolkits.mplot3d import Axes3D  # noqa: F401 unused import\n",
    "%matplotlib qt"
   ]
  },
  {
   "cell_type": "code",
   "execution_count": 40,
   "metadata": {},
   "outputs": [],
   "source": [
    "df_test=pd.read_csv(\"alturas-pesos-mils-test.csv\")\n",
    "df_train=pd.read_csv(\"alturas-pesos-mils-train.csv\")\n",
    "df_train.drop(columns=[\"Unnamed: 0\"], inplace=True)\n",
    "df_test.drop(columns=[\"Unnamed: 0\"], inplace=True)"
   ]
  },
  {
   "cell_type": "code",
   "execution_count": 41,
   "metadata": {},
   "outputs": [
    {
     "data": {
      "text/html": [
       "<div>\n",
       "<style scoped>\n",
       "    .dataframe tbody tr th:only-of-type {\n",
       "        vertical-align: middle;\n",
       "    }\n",
       "\n",
       "    .dataframe tbody tr th {\n",
       "        vertical-align: top;\n",
       "    }\n",
       "\n",
       "    .dataframe thead th {\n",
       "        text-align: right;\n",
       "    }\n",
       "</style>\n",
       "<table border=\"1\" class=\"dataframe\">\n",
       "  <thead>\n",
       "    <tr style=\"text-align: right;\">\n",
       "      <th></th>\n",
       "      <th>Genero</th>\n",
       "      <th>Peso</th>\n",
       "      <th>Altura</th>\n",
       "    </tr>\n",
       "  </thead>\n",
       "  <tbody>\n",
       "    <tr>\n",
       "      <td>0</td>\n",
       "      <td>Mujer</td>\n",
       "      <td>61.235</td>\n",
       "      <td>162.402</td>\n",
       "    </tr>\n",
       "    <tr>\n",
       "      <td>1</td>\n",
       "      <td>Hombre</td>\n",
       "      <td>97.432</td>\n",
       "      <td>181.908</td>\n",
       "    </tr>\n",
       "    <tr>\n",
       "      <td>2</td>\n",
       "      <td>Hombre</td>\n",
       "      <td>73.324</td>\n",
       "      <td>172.459</td>\n",
       "    </tr>\n",
       "    <tr>\n",
       "      <td>3</td>\n",
       "      <td>Mujer</td>\n",
       "      <td>55.193</td>\n",
       "      <td>157.748</td>\n",
       "    </tr>\n",
       "    <tr>\n",
       "      <td>4</td>\n",
       "      <td>Mujer</td>\n",
       "      <td>56.886</td>\n",
       "      <td>151.798</td>\n",
       "    </tr>\n",
       "  </tbody>\n",
       "</table>\n",
       "</div>"
      ],
      "text/plain": [
       "   Genero    Peso   Altura\n",
       "0   Mujer  61.235  162.402\n",
       "1  Hombre  97.432  181.908\n",
       "2  Hombre  73.324  172.459\n",
       "3   Mujer  55.193  157.748\n",
       "4   Mujer  56.886  151.798"
      ]
     },
     "execution_count": 41,
     "metadata": {},
     "output_type": "execute_result"
    }
   ],
   "source": [
    "df_train.head()"
   ]
  },
  {
   "cell_type": "code",
   "execution_count": 42,
   "metadata": {},
   "outputs": [
    {
     "data": {
      "text/html": [
       "<div>\n",
       "<style scoped>\n",
       "    .dataframe tbody tr th:only-of-type {\n",
       "        vertical-align: middle;\n",
       "    }\n",
       "\n",
       "    .dataframe tbody tr th {\n",
       "        vertical-align: top;\n",
       "    }\n",
       "\n",
       "    .dataframe thead th {\n",
       "        text-align: right;\n",
       "    }\n",
       "</style>\n",
       "<table border=\"1\" class=\"dataframe\">\n",
       "  <thead>\n",
       "    <tr style=\"text-align: right;\">\n",
       "      <th></th>\n",
       "      <th>Peso</th>\n",
       "      <th>Altura</th>\n",
       "    </tr>\n",
       "  </thead>\n",
       "  <tbody>\n",
       "    <tr>\n",
       "      <td>count</td>\n",
       "      <td>8000.000000</td>\n",
       "      <td>8000.000000</td>\n",
       "    </tr>\n",
       "    <tr>\n",
       "      <td>mean</td>\n",
       "      <td>72.802476</td>\n",
       "      <td>168.113424</td>\n",
       "    </tr>\n",
       "    <tr>\n",
       "      <td>std</td>\n",
       "      <td>14.624699</td>\n",
       "      <td>9.829018</td>\n",
       "    </tr>\n",
       "    <tr>\n",
       "      <td>min</td>\n",
       "      <td>31.207000</td>\n",
       "      <td>138.866000</td>\n",
       "    </tr>\n",
       "    <tr>\n",
       "      <td>25%</td>\n",
       "      <td>61.071750</td>\n",
       "      <td>160.765750</td>\n",
       "    </tr>\n",
       "    <tr>\n",
       "      <td>50%</td>\n",
       "      <td>72.748500</td>\n",
       "      <td>167.976500</td>\n",
       "    </tr>\n",
       "    <tr>\n",
       "      <td>75%</td>\n",
       "      <td>84.523250</td>\n",
       "      <td>175.320000</td>\n",
       "    </tr>\n",
       "    <tr>\n",
       "      <td>max</td>\n",
       "      <td>121.687000</td>\n",
       "      <td>199.824000</td>\n",
       "    </tr>\n",
       "  </tbody>\n",
       "</table>\n",
       "</div>"
      ],
      "text/plain": [
       "              Peso       Altura\n",
       "count  8000.000000  8000.000000\n",
       "mean     72.802476   168.113424\n",
       "std      14.624699     9.829018\n",
       "min      31.207000   138.866000\n",
       "25%      61.071750   160.765750\n",
       "50%      72.748500   167.976500\n",
       "75%      84.523250   175.320000\n",
       "max     121.687000   199.824000"
      ]
     },
     "execution_count": 42,
     "metadata": {},
     "output_type": "execute_result"
    }
   ],
   "source": [
    "df_train.describe()"
   ]
  },
  {
   "cell_type": "code",
   "execution_count": 43,
   "metadata": {},
   "outputs": [
    {
     "data": {
      "text/plain": [
       "3998"
      ]
     },
     "execution_count": 43,
     "metadata": {},
     "output_type": "execute_result"
    }
   ],
   "source": [
    "len(df_train[df_train[\"Genero\"]==\"Mujer\"])"
   ]
  },
  {
   "cell_type": "code",
   "execution_count": 44,
   "metadata": {},
   "outputs": [
    {
     "data": {
      "text/plain": [
       "4002"
      ]
     },
     "execution_count": 44,
     "metadata": {},
     "output_type": "execute_result"
    }
   ],
   "source": [
    "len(df_train[df_train[\"Genero\"]==\"Hombre\"])"
   ]
  },
  {
   "cell_type": "code",
   "execution_count": 45,
   "metadata": {},
   "outputs": [
    {
     "name": "stdout",
     "output_type": "stream",
     "text": [
      "La media de pesos es 72.802475875 Kg\n",
      "La media de alturas es 168.113424125 cm\n"
     ]
    }
   ],
   "source": [
    "#Media de peso y altura\n",
    "\n",
    "print(\"La media de pesos es {} Kg\".format(df_train[\"Peso\"].mean()))\n",
    "print(\"La media de alturas es {} cm\".format(df_train[\"Altura\"].mean()))"
   ]
  },
  {
   "cell_type": "code",
   "execution_count": 46,
   "metadata": {},
   "outputs": [
    {
     "data": {
      "text/plain": [
       "Peso       84.455398\n",
       "Altura    174.915330\n",
       "dtype: float64"
      ]
     },
     "execution_count": 46,
     "metadata": {},
     "output_type": "execute_result"
    }
   ],
   "source": [
    "df_train[df_train[\"Genero\"]==\"Hombre\"].mean()"
   ]
  },
  {
   "cell_type": "code",
   "execution_count": 47,
   "metadata": {},
   "outputs": [
    {
     "data": {
      "text/plain": [
       "Peso       61.137895\n",
       "Altura    161.304713\n",
       "dtype: float64"
      ]
     },
     "execution_count": 47,
     "metadata": {},
     "output_type": "execute_result"
    }
   ],
   "source": [
    "df_train[df_train[\"Genero\"]==\"Mujer\"].mean()"
   ]
  },
  {
   "cell_type": "code",
   "execution_count": 48,
   "metadata": {},
   "outputs": [
    {
     "data": {
      "text/plain": [
       "array([[<matplotlib.axes._subplots.AxesSubplot object at 0x7ff1eacba050>,\n",
       "        <matplotlib.axes._subplots.AxesSubplot object at 0x7ff1eae82b50>]],\n",
       "      dtype=object)"
      ]
     },
     "execution_count": 48,
     "metadata": {},
     "output_type": "execute_result"
    }
   ],
   "source": [
    "df_train.hist(bins=30)"
   ]
  },
  {
   "cell_type": "code",
   "execution_count": 49,
   "metadata": {},
   "outputs": [],
   "source": [
    "fig=plt.figure(figsize=[18,6])\n",
    "ax = plt.gca()\n",
    "df_train[df_train[\"Genero\"]==\"Mujer\"][\"Altura\"].hist(bins=30,ax=ax,color='b',label=\"Mujer\")\n",
    "df_train[df_train[\"Genero\"]==\"Hombre\"][\"Altura\"].hist(bins=30,ax=ax,color='r',label=\"Hombre\")\n",
    "plt.title(\"Histogramas de Pesos de Hombres y Mujeres\")\n",
    "plt.xlabel(\"Altura\")\n",
    "plt.ylabel(\"Frecuencia\")\n",
    "plt.legend()\n",
    "plt.show()\n",
    "fig=plt.figure(figsize=[18,6])\n",
    "ax = plt.gca()\n",
    "df_train[df_train[\"Genero\"]==\"Mujer\"][\"Peso\"].hist(bins=30,\n",
    "                                                   ax=ax,\n",
    "                                                   color='b',\n",
    "                                                   label=\"Mujer\",\n",
    "                                                   alpha=0.5)\n",
    "df_train[df_train[\"Genero\"]==\"Hombre\"][\"Peso\"].hist(bins=30,\n",
    "                                                    ax=ax,\n",
    "                                                    color='r',\n",
    "                                                    label=\"Hombre\",\n",
    "                                                   alpha=0.5)\n",
    "plt.title(\"Histogramas de Pesos de Hombres y Mujeres\")\n",
    "plt.xlabel(\"Peso\")\n",
    "plt.ylabel(\"Frecuencia\")\n",
    "plt.legend()\n",
    "plt.show()"
   ]
  },
  {
   "cell_type": "code",
   "execution_count": 50,
   "metadata": {},
   "outputs": [],
   "source": [
    "plt.figure(figsize=[6,6])\n",
    "plt.scatter(df_train[df_train[\"Genero\"]==\"Mujer\"][\"Peso\"],\n",
    "            df_train[df_train[\"Genero\"]==\"Mujer\"][\"Altura\"],\n",
    "            color=\"b\",\n",
    "            label=\"Mujeres\",marker=\"x\")\n",
    "\n",
    "plt.scatter(df_train[df_train[\"Genero\"]==\"Hombre\"][\"Peso\"],\n",
    "            df_train[df_train[\"Genero\"]==\"Hombre\"][\"Altura\"],\n",
    "            color=\"r\",\n",
    "            label=\"Hombres\")\n",
    "plt.legend()\n",
    "plt.xlabel(\"Peso\")\n",
    "plt.ylabel(\"Altura\")\n",
    "plt.savefig(\"scatter_PA.png\")\n",
    "plt.show()"
   ]
  },
  {
   "cell_type": "code",
   "execution_count": 51,
   "metadata": {},
   "outputs": [],
   "source": [
    "from sklearn.model_selection import train_test_split"
   ]
  },
  {
   "cell_type": "code",
   "execution_count": 52,
   "metadata": {},
   "outputs": [],
   "source": [
    "df_train2, df_valid = train_test_split(df_train, test_size=0.30)"
   ]
  },
  {
   "cell_type": "code",
   "execution_count": 53,
   "metadata": {},
   "outputs": [],
   "source": [
    "hist2d=np.histogram2d(df_train2[\"Peso\"].values,df_train2[\"Altura\"].values,bins=[4,5])"
   ]
  },
  {
   "cell_type": "code",
   "execution_count": 54,
   "metadata": {},
   "outputs": [
    {
     "data": {
      "text/plain": [
       "array([3, 3, 2, ..., 4, 2, 3])"
      ]
     },
     "execution_count": 54,
     "metadata": {},
     "output_type": "execute_result"
    }
   ],
   "source": [
    "np.digitize(df_train2[\"Altura\"].values,hist2d[2])"
   ]
  },
  {
   "cell_type": "code",
   "execution_count": 55,
   "metadata": {},
   "outputs": [
    {
     "data": {
      "text/plain": [
       "array([ 31.207,  53.827,  76.447,  99.067, 121.687])"
      ]
     },
     "execution_count": 55,
     "metadata": {},
     "output_type": "execute_result"
    }
   ],
   "source": [
    "hist2d[1]"
   ]
  },
  {
   "cell_type": "code",
   "execution_count": 56,
   "metadata": {},
   "outputs": [],
   "source": [
    "acc=0\n",
    "for binsA in range(1,50):\n",
    "    for binsP in range(1,100):\n",
    "        acc_aux=eval_model(df_train2,df_valid,binsA=binsA,binsP=binsP)\n",
    "        if acc_aux>acc:\n",
    "            acc=acc_aux\n",
    "            best_binsA=binsA\n",
    "            best_binsP=binsP"
   ]
  },
  {
   "cell_type": "code",
   "execution_count": 57,
   "metadata": {},
   "outputs": [
    {
     "data": {
      "text/plain": [
       "0.9166666666666666"
      ]
     },
     "execution_count": 57,
     "metadata": {},
     "output_type": "execute_result"
    }
   ],
   "source": [
    "acc"
   ]
  },
  {
   "cell_type": "code",
   "execution_count": 58,
   "metadata": {},
   "outputs": [
    {
     "data": {
      "text/plain": [
       "18"
      ]
     },
     "execution_count": 58,
     "metadata": {},
     "output_type": "execute_result"
    }
   ],
   "source": [
    "best_binsA"
   ]
  },
  {
   "cell_type": "code",
   "execution_count": 59,
   "metadata": {},
   "outputs": [
    {
     "data": {
      "text/plain": [
       "36"
      ]
     },
     "execution_count": 59,
     "metadata": {},
     "output_type": "execute_result"
    }
   ],
   "source": [
    "best_binsP"
   ]
  },
  {
   "cell_type": "code",
   "execution_count": 60,
   "metadata": {},
   "outputs": [],
   "source": [
    "plot_model(df_train2,df_valid,binsA=1,binsP=1)"
   ]
  },
  {
   "cell_type": "code",
   "execution_count": 61,
   "metadata": {},
   "outputs": [
    {
     "data": {
      "text/plain": [
       "0.8633333333333333"
      ]
     },
     "execution_count": 61,
     "metadata": {},
     "output_type": "execute_result"
    }
   ],
   "source": [
    "eval_model(df_train2,df_valid,binsA=100,binsP=100)"
   ]
  },
  {
   "cell_type": "code",
   "execution_count": 62,
   "metadata": {},
   "outputs": [],
   "source": [
    "plot_model(df_train2,df_valid,binsA=5,binsP=5)"
   ]
  },
  {
   "cell_type": "code",
   "execution_count": 63,
   "metadata": {},
   "outputs": [],
   "source": [
    "plot_model(df_train2,df_valid,binsA=9,binsP=50)"
   ]
  },
  {
   "cell_type": "code",
   "execution_count": 64,
   "metadata": {},
   "outputs": [],
   "source": [
    "plot_model(df_train2,df_valid,binsA=50,binsP=50)"
   ]
  },
  {
   "cell_type": "code",
   "execution_count": null,
   "metadata": {},
   "outputs": [],
   "source": []
  }
 ],
 "metadata": {
  "kernelspec": {
   "display_name": "Python 3.7.4 (curso_PAE)",
   "language": "python",
   "name": "curso_pae"
  },
  "language_info": {
   "codemirror_mode": {
    "name": "ipython",
    "version": 3
   },
   "file_extension": ".py",
   "mimetype": "text/x-python",
   "name": "python",
   "nbconvert_exporter": "python",
   "pygments_lexer": "ipython3",
   "version": "3.7.4"
  }
 },
 "nbformat": 4,
 "nbformat_minor": 2
}
